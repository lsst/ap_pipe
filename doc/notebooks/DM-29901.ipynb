{
 "cells": [
  {
   "cell_type": "code",
   "execution_count": 1,
   "id": "appropriate-means",
   "metadata": {},
   "outputs": [
    {
     "name": "stdout",
     "output_type": "stream",
     "text": [
      "Populating the interactive namespace from numpy and matplotlib\n"
     ]
    }
   ],
   "source": [
    "%pylab inline"
   ]
  },
  {
   "cell_type": "code",
   "execution_count": 2,
   "id": "sonic-qatar",
   "metadata": {},
   "outputs": [],
   "source": [
    "import lsst.daf.persistence as dafPersit\n",
    "from lsst.daf.butler import Butler"
   ]
  },
  {
   "cell_type": "markdown",
   "id": "wired-switzerland",
   "metadata": {},
   "source": [
    "Quick look difference in catalog properties for Gen2 and Gen2 butler. This looks at both the DiaSource and src catalog lengths (initially) to check if our differences in CI are from upstream or downstream of ImageDifferencing."
   ]
  },
  {
   "cell_type": "markdown",
   "id": "spanish-bernard",
   "metadata": {},
   "source": [
    "CosmosPDR2\n",
    "========"
   ]
  },
  {
   "cell_type": "markdown",
   "id": "upper-state",
   "metadata": {},
   "source": [
    "Gen2\n",
    "------"
   ]
  },
  {
   "cell_type": "code",
   "execution_count": 3,
   "id": "amateur-canberra",
   "metadata": {},
   "outputs": [],
   "source": [
    "cosButGen2 = dafPersit.Butler(\n",
    "    \"/project/morriscb/src/ap_verify_ci_cosmos_pdr2/DM-29901-Gen2/output\")"
   ]
  },
  {
   "cell_type": "code",
   "execution_count": 4,
   "id": "skilled-young",
   "metadata": {},
   "outputs": [
    {
     "name": "stdout",
     "output_type": "stream",
     "text": [
      "Source table length: 3880\n"
     ]
    }
   ],
   "source": [
    "src = cosButGen2.get('src', visit=59150, ccd=50)\n",
    "print(\"Source table length:\", len(src))"
   ]
  },
  {
   "cell_type": "code",
   "execution_count": 5,
   "id": "burning-czech",
   "metadata": {},
   "outputs": [
    {
     "name": "stdout",
     "output_type": "stream",
     "text": [
      "Source table length: 239\n"
     ]
    }
   ],
   "source": [
    "diaSrc = cosButGen2.get('deepDiff_diaSrc', visit=59150, ccd=50)\n",
    "print(\"Source table length:\", len(diaSrc))"
   ]
  },
  {
   "cell_type": "markdown",
   "id": "sophisticated-responsibility",
   "metadata": {},
   "source": [
    "Gen3\n",
    "------"
   ]
  },
  {
   "cell_type": "code",
   "execution_count": 6,
   "id": "graduate-curve",
   "metadata": {},
   "outputs": [],
   "source": [
    "cosButGen3 = Butler(\n",
    "    \"/project/morriscb/src/ap_verify_ci_cosmos_pdr2/DM-29901-Gen3/repo\",\n",
    "    collections=[\"ap_verify-output\"])"
   ]
  },
  {
   "cell_type": "code",
   "execution_count": 7,
   "id": "multiple-replacement",
   "metadata": {},
   "outputs": [
    {
     "name": "stdout",
     "output_type": "stream",
     "text": [
      "Source table length: 3870\n"
     ]
    }
   ],
   "source": [
    "src = cosButGen3.get('src', visit=59150, detector=50, instrument=\"HSC\")\n",
    "print(\"Source table length:\", len(src))"
   ]
  },
  {
   "cell_type": "code",
   "execution_count": 8,
   "id": "decent-school",
   "metadata": {},
   "outputs": [
    {
     "name": "stdout",
     "output_type": "stream",
     "text": [
      "Source table length: 274\n"
     ]
    }
   ],
   "source": [
    "diaSrc = cosButGen3.get('deepDiff_diaSrc', visit=59150, detector=50, instrument=\"HSC\")\n",
    "print(\"Source table length:\", len(diaSrc))"
   ]
  },
  {
   "cell_type": "markdown",
   "id": "outdoor-laser",
   "metadata": {},
   "source": [
    "HiTS-2015\n",
    "========"
   ]
  },
  {
   "cell_type": "markdown",
   "id": "secure-butterfly",
   "metadata": {},
   "source": [
    "Gen2\n",
    "------"
   ]
  },
  {
   "cell_type": "code",
   "execution_count": 3,
   "id": "wound-probability",
   "metadata": {},
   "outputs": [],
   "source": [
    "hitsButGen2 = dafPersit.Butler(\n",
    "    \"/project/morriscb/src/ap_verify_ci_hits2015/DM-29901-Gen2/output\")"
   ]
  },
  {
   "cell_type": "code",
   "execution_count": 8,
   "id": "minor-tokyo",
   "metadata": {},
   "outputs": [
    {
     "name": "stdout",
     "output_type": "stream",
     "text": [
      "Source table length: 2108\n"
     ]
    }
   ],
   "source": [
    "src = hitsButGen2.get('src', visit=411420, ccd=5)\n",
    "print(\"Source table length:\", len(src))"
   ]
  },
  {
   "cell_type": "code",
   "execution_count": 10,
   "id": "advised-portuguese",
   "metadata": {},
   "outputs": [
    {
     "name": "stdout",
     "output_type": "stream",
     "text": [
      "Source table length: 132\n"
     ]
    }
   ],
   "source": [
    "diaSrc = hitsButGen2.get('deepDiff_diaSrc', visit=411420, ccd=5)\n",
    "print(\"Source table length:\", len(diaSrc))"
   ]
  },
  {
   "cell_type": "markdown",
   "id": "forbidden-advancement",
   "metadata": {},
   "source": [
    "Gen3\n",
    "------"
   ]
  },
  {
   "cell_type": "code",
   "execution_count": 4,
   "id": "loose-abuse",
   "metadata": {},
   "outputs": [],
   "source": [
    "hitsButGen3 = Butler(\n",
    "    \"/project/morriscb/src/ap_verify_ci_hits2015/DM-29901-Gen3/repo\",\n",
    "    collections=[\"ap_verify-output\"])"
   ]
  },
  {
   "cell_type": "code",
   "execution_count": 5,
   "id": "electoral-cheese",
   "metadata": {},
   "outputs": [
    {
     "name": "stdout",
     "output_type": "stream",
     "text": [
      "Source table length: 2108\n"
     ]
    }
   ],
   "source": [
    "src = hitsButGen3.get('src', visit=411420, detector=5, instrument=\"DECam\")\n",
    "print(\"Source table length:\", len(src))"
   ]
  },
  {
   "cell_type": "code",
   "execution_count": 6,
   "id": "infrared-tattoo",
   "metadata": {},
   "outputs": [
    {
     "name": "stdout",
     "output_type": "stream",
     "text": [
      "Source table length: 132\n"
     ]
    }
   ],
   "source": [
    "diaSrc = hitsButGen3.get('deepDiff_diaSrc', visit=411420, detector=5, instrument=\"DECam\")\n",
    "print(\"Source table length:\", len(diaSrc))"
   ]
  },
  {
   "cell_type": "code",
   "execution_count": null,
   "id": "simplified-thought",
   "metadata": {},
   "outputs": [],
   "source": []
  }
 ],
 "metadata": {
  "kernelspec": {
   "display_name": "Python 3",
   "language": "python",
   "name": "python3"
  },
  "language_info": {
   "codemirror_mode": {
    "name": "ipython",
    "version": 3
   },
   "file_extension": ".py",
   "mimetype": "text/x-python",
   "name": "python",
   "nbconvert_exporter": "python",
   "pygments_lexer": "ipython3",
   "version": "3.8.6"
  }
 },
 "nbformat": 4,
 "nbformat_minor": 5
}
