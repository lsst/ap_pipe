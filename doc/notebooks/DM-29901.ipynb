{
 "cells": [
  {
   "cell_type": "code",
   "execution_count": 1,
   "id": "architectural-undergraduate",
   "metadata": {},
   "outputs": [
    {
     "name": "stdout",
     "output_type": "stream",
     "text": [
      "Populating the interactive namespace from numpy and matplotlib\n"
     ]
    }
   ],
   "source": [
    "%pylab inline"
   ]
  },
  {
   "cell_type": "code",
   "execution_count": 2,
   "id": "fourth-birmingham",
   "metadata": {},
   "outputs": [],
   "source": [
    "import lsst.daf.persistence as dafPersit\n",
    "from lsst.daf.butler import Butler"
   ]
  },
  {
   "cell_type": "markdown",
   "id": "rural-acoustic",
   "metadata": {},
   "source": [
    "Quick look difference in catalog properties for Gen2 and Gen2 butler. This looks at both the DiaSource and src catalog lengths (initially) to check if our differences in CI are from upstream or downstream of ImageDifferencing."
   ]
  },
  {
   "cell_type": "markdown",
   "id": "adaptive-connecticut",
   "metadata": {},
   "source": [
    "CosmosPDR2\n",
    "========"
   ]
  },
  {
   "cell_type": "markdown",
   "id": "visible-while",
   "metadata": {},
   "source": [
    "Gen2\n",
    "------"
   ]
  },
  {
   "cell_type": "code",
   "execution_count": 3,
   "id": "recognized-netscape",
   "metadata": {},
   "outputs": [],
   "source": [
    "cosButGen2 = dafPersit.Butler(\n",
    "    \"/project/morriscb/src/ap_verify_ci_cosmos_pdr2/DM-29901-Gen2/output\")"
   ]
  },
  {
   "cell_type": "code",
   "execution_count": 4,
   "id": "stopped-rendering",
   "metadata": {},
   "outputs": [
    {
     "name": "stdout",
     "output_type": "stream",
     "text": [
      "Source table length: 4024\n"
     ]
    }
   ],
   "source": [
    "src = cosButGen2.get('src', visit=59160, ccd=51)\n",
    "print(\"Source table length:\", len(src))"
   ]
  },
  {
   "cell_type": "code",
   "execution_count": 5,
   "id": "continued-difficulty",
   "metadata": {},
   "outputs": [
    {
     "name": "stdout",
     "output_type": "stream",
     "text": [
      "DiaSource table length: 163\n"
     ]
    }
   ],
   "source": [
    "diaSrc = cosButGen2.get('deepDiff_diaSrc', visit=59160, ccd=51)\n",
    "print(\"DiaSource table length:\", len(diaSrc))"
   ]
  },
  {
   "cell_type": "markdown",
   "id": "metric-sally",
   "metadata": {},
   "source": [
    "Gen3\n",
    "------"
   ]
  },
  {
   "cell_type": "code",
   "execution_count": 6,
   "id": "increased-framework",
   "metadata": {},
   "outputs": [],
   "source": [
    "cosButGen3 = Butler(\n",
    "    \"/project/morriscb/src/ap_verify_ci_cosmos_pdr2/DM-29901-Gen3/repo\",\n",
    "    collections=[\"ap_verify-output\"])"
   ]
  },
  {
   "cell_type": "code",
   "execution_count": 7,
   "id": "understanding-guinea",
   "metadata": {},
   "outputs": [
    {
     "name": "stdout",
     "output_type": "stream",
     "text": [
      "Source table length: 4046\n"
     ]
    }
   ],
   "source": [
    "src = cosButGen3.get('src', visit=59160, detector=51, instrument=\"HSC\")\n",
    "print(\"Source table length:\", len(src))"
   ]
  },
  {
   "cell_type": "code",
   "execution_count": 8,
   "id": "choice-michigan",
   "metadata": {},
   "outputs": [
    {
     "name": "stdout",
     "output_type": "stream",
     "text": [
      "DiaSource table length: 198\n"
     ]
    }
   ],
   "source": [
    "diaSrc = cosButGen3.get('deepDiff_diaSrc', visit=59160, detector=51, instrument=\"HSC\")\n",
    "print(\"DiaSource table length:\", len(diaSrc))"
   ]
  },
  {
   "cell_type": "markdown",
   "id": "cosmetic-princess",
   "metadata": {},
   "source": [
    "HiTS-2015\n",
    "========"
   ]
  },
  {
   "cell_type": "markdown",
   "id": "attractive-municipality",
   "metadata": {},
   "source": [
    "Gen2\n",
    "------"
   ]
  },
  {
   "cell_type": "code",
   "execution_count": 4,
   "id": "personalized-milwaukee",
   "metadata": {},
   "outputs": [],
   "source": [
    "hitsButGen2 = dafPersit.Butler(\n",
    "    \"/project/morriscb/src/ap_verify_ci_hits2015/DM-29901-Gen2/output\")"
   ]
  },
  {
   "cell_type": "code",
   "execution_count": 5,
   "id": "thrown-notification",
   "metadata": {},
   "outputs": [
    {
     "name": "stdout",
     "output_type": "stream",
     "text": [
      "Source table length: 2455\n"
     ]
    }
   ],
   "source": [
    "src = hitsButGen2.get('src', visit=411371, ccd=60)\n",
    "print(\"Source table length:\", len(src))"
   ]
  },
  {
   "cell_type": "code",
   "execution_count": 6,
   "id": "saved-indianapolis",
   "metadata": {},
   "outputs": [
    {
     "name": "stdout",
     "output_type": "stream",
     "text": [
      "DiaSource table length: 137\n"
     ]
    }
   ],
   "source": [
    "diaSrc = hitsButGen2.get('deepDiff_diaSrc', visit=411371, ccd=60)\n",
    "print(\"DiaSource table length:\", len(diaSrc))"
   ]
  },
  {
   "cell_type": "markdown",
   "id": "collective-twelve",
   "metadata": {},
   "source": [
    "Gen3\n",
    "------"
   ]
  },
  {
   "cell_type": "code",
   "execution_count": 7,
   "id": "fourth-cameroon",
   "metadata": {},
   "outputs": [],
   "source": [
    "hitsButGen3 = Butler(\n",
    "    \"/project/morriscb/src/ap_verify_ci_hits2015/DM-29901-Gen3/repo\",\n",
    "    collections=[\"ap_verify-output\"])"
   ]
  },
  {
   "cell_type": "code",
   "execution_count": 8,
   "id": "behind-generator",
   "metadata": {},
   "outputs": [
    {
     "name": "stdout",
     "output_type": "stream",
     "text": [
      "Source table length: 2455\n"
     ]
    }
   ],
   "source": [
    "src = hitsButGen3.get('src', visit=411371, detector=60, instrument=\"DECam\")\n",
    "print(\"Source table length:\", len(src))"
   ]
  },
  {
   "cell_type": "code",
   "execution_count": 9,
   "id": "separated-leave",
   "metadata": {},
   "outputs": [
    {
     "name": "stdout",
     "output_type": "stream",
     "text": [
      "DiaSource table length: 255\n"
     ]
    }
   ],
   "source": [
    "diaSrc = hitsButGen3.get('deepDiff_diaSrc', visit=411371, detector=60, instrument=\"DECam\")\n",
    "print(\"DiaSource table length:\", len(diaSrc))"
   ]
  },
  {
   "cell_type": "code",
   "execution_count": null,
   "id": "medieval-dover",
   "metadata": {},
   "outputs": [],
   "source": []
  }
 ],
 "metadata": {
  "kernelspec": {
   "display_name": "Python 3",
   "language": "python",
   "name": "python3"
  },
  "language_info": {
   "codemirror_mode": {
    "name": "ipython",
    "version": 3
   },
   "file_extension": ".py",
   "mimetype": "text/x-python",
   "name": "python",
   "nbconvert_exporter": "python",
   "pygments_lexer": "ipython3",
   "version": "3.8.6"
  }
 },
 "nbformat": 4,
 "nbformat_minor": 5
}
