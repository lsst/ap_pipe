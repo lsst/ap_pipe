{
 "cells": [
  {
   "cell_type": "code",
   "execution_count": 1,
   "id": "innocent-hungarian",
   "metadata": {},
   "outputs": [
    {
     "name": "stdout",
     "output_type": "stream",
     "text": [
      "Populating the interactive namespace from numpy and matplotlib\n"
     ]
    }
   ],
   "source": [
    "%pylab inline"
   ]
  },
  {
   "cell_type": "code",
   "execution_count": 2,
   "id": "working-garage",
   "metadata": {},
   "outputs": [],
   "source": [
    "import lsst.daf.persistence as dafPersit\n",
    "from lsst.daf.butler import Butler"
   ]
  },
  {
   "cell_type": "markdown",
   "id": "moderate-pearl",
   "metadata": {},
   "source": [
    "Quick look difference in catalog properties for Gen2 and Gen2 butler. This looks at both the DiaSource and src catalog lengths (initially) to check if our differences in CI are from upstream or downstream of ImageDifferencing."
   ]
  },
  {
   "cell_type": "markdown",
   "id": "persistent-wisconsin",
   "metadata": {},
   "source": [
    "CosmosPDR2\n",
    "========"
   ]
  },
  {
   "cell_type": "markdown",
   "id": "large-assault",
   "metadata": {},
   "source": [
    "Gen2\n",
    "------"
   ]
  },
  {
   "cell_type": "code",
   "execution_count": 3,
   "id": "religious-worthy",
   "metadata": {},
   "outputs": [],
   "source": [
    "cosButGen2 = dafPersit.Butler(\n",
    "    \"/project/morriscb/src/ap_verify_ci_cosmos_pdr2/DM-29901-Gen2/output\")"
   ]
  },
  {
   "cell_type": "code",
   "execution_count": 4,
   "id": "vocational-juvenile",
   "metadata": {},
   "outputs": [
    {
     "name": "stdout",
     "output_type": "stream",
     "text": [
      "Source table length: 3880\n"
     ]
    }
   ],
   "source": [
    "src = cosButGen2.get('src', visit=59150, ccd=50)\n",
    "print(\"Source table length:\", len(src))"
   ]
  },
  {
   "cell_type": "code",
   "execution_count": 5,
   "id": "improved-billy",
   "metadata": {},
   "outputs": [
    {
     "name": "stdout",
     "output_type": "stream",
     "text": [
      "Source table length: 239\n"
     ]
    }
   ],
   "source": [
    "diaSrc = cosButGen2.get('deepDiff_diaSrc', visit=59150, ccd=50)\n",
    "print(\"Source table length:\", len(diaSrc))"
   ]
  },
  {
   "cell_type": "markdown",
   "id": "primary-prefix",
   "metadata": {},
   "source": [
    "Gen3\n",
    "------"
   ]
  },
  {
   "cell_type": "code",
   "execution_count": 6,
   "id": "linear-convert",
   "metadata": {},
   "outputs": [],
   "source": [
    "cosButGen3 = Butler(\n",
    "    \"/project/morriscb/src/ap_verify_ci_cosmos_pdr2/DM-29901-Gen3/repo\",\n",
    "    collections=[\"ap_verify-output\"])"
   ]
  },
  {
   "cell_type": "code",
   "execution_count": 7,
   "id": "certain-butler",
   "metadata": {},
   "outputs": [
    {
     "name": "stdout",
     "output_type": "stream",
     "text": [
      "Source table length: 3870\n"
     ]
    }
   ],
   "source": [
    "src = cosButGen3.get('src', visit=59150, detector=50, instrument=\"HSC\")\n",
    "print(\"Source table length:\", len(src))"
   ]
  },
  {
   "cell_type": "code",
   "execution_count": 8,
   "id": "generic-street",
   "metadata": {},
   "outputs": [
    {
     "name": "stdout",
     "output_type": "stream",
     "text": [
      "Source table length: 274\n"
     ]
    }
   ],
   "source": [
    "diaSrc = cosButGen3.get('deepDiff_diaSrc', visit=59150, detector=50, instrument=\"HSC\")\n",
    "print(\"Source table length:\", len(diaSrc))"
   ]
  },
  {
   "cell_type": "markdown",
   "id": "casual-journey",
   "metadata": {},
   "source": [
    "HiTS-2015\n",
    "========"
   ]
  },
  {
   "cell_type": "markdown",
   "id": "christian-teens",
   "metadata": {},
   "source": [
    "Gen2\n",
    "------"
   ]
  },
  {
   "cell_type": "code",
   "execution_count": 9,
   "id": "applied-charm",
   "metadata": {},
   "outputs": [
    {
     "ename": "RuntimeError",
     "evalue": "afw Filters were already defined on: FilterDefinitions(FilterDefinition(physical_filter='unknown', lambdaEff='0', band='unknown', alias='frozenset({'NOTSET', 'UNRECOGNIZED', 'Unrecognized', 'UNRECOGNISED', 'UNKNOWN', 'Unrecognised'})'), FilterDefinition(physical_filter='empty', lambdaEff='0', band='white', alias='frozenset({'NONE'})'), FilterDefinition(physical_filter='HSC-G', lambdaEff='477', band='g', alias='frozenset({'W-S-G+'})'), FilterDefinition(physical_filter='HSC-R', lambdaEff='623', band='r', alias='frozenset({'W-S-R+'})'), FilterDefinition(physical_filter='ENG-R1', lambdaEff='623', band='r', alias='frozenset({'109'})'), FilterDefinition(physical_filter='HSC-I', lambdaEff='775', band='i', alias='frozenset({'W-S-I+'})'), FilterDefinition(physical_filter='HSC-Z', lambdaEff='925', band='z', alias='frozenset({'W-S-Z+'})'), FilterDefinition(physical_filter='HSC-Y', lambdaEff='990', band='y', alias='frozenset({'W-S-ZR'})'), FilterDefinition(physical_filter='NB0387', lambdaEff='387', band='N387'), FilterDefinition(physical_filter='NB0515', lambdaEff='515', band='N515'), FilterDefinition(physical_filter='NB0656', lambdaEff='656', band='N656'), FilterDefinition(physical_filter='NB0816', lambdaEff='816', band='N816'), FilterDefinition(physical_filter='NB0921', lambdaEff='921', band='N921'), FilterDefinition(physical_filter='NB1010', lambdaEff='1010', band='N1010'), FilterDefinition(physical_filter='SH', lambdaEff='0', band='SH'), FilterDefinition(physical_filter='PH', lambdaEff='0', band='PH'), FilterDefinition(physical_filter='NB0527', lambdaEff='527', band='N527'), FilterDefinition(physical_filter='NB0718', lambdaEff='718', band='N718'), FilterDefinition(physical_filter='IB0945', lambdaEff='945', band='I945'), FilterDefinition(physical_filter='NB0973', lambdaEff='973', band='N973'), FilterDefinition(physical_filter='HSC-I2', lambdaEff='775', band='i', afw_name='i2'), FilterDefinition(physical_filter='HSC-R2', lambdaEff='623', band='r', afw_name='r2'), FilterDefinition(physical_filter='NB0468', lambdaEff='468', band='N468'), FilterDefinition(physical_filter='NB0926', lambdaEff='926', band='N926'), FilterDefinition(physical_filter='NB0400', lambdaEff='400', band='N400'))",
     "output_type": "error",
     "traceback": [
      "\u001b[0;31m---------------------------------------------------------------------------\u001b[0m",
      "\u001b[0;31mRuntimeError\u001b[0m                              Traceback (most recent call last)",
      "\u001b[0;32m<ipython-input-9-e6c7a8dd8822>\u001b[0m in \u001b[0;36m<module>\u001b[0;34m\u001b[0m\n\u001b[0;32m----> 1\u001b[0;31m hitsButGen2 = dafPersit.Butler(\n\u001b[0m\u001b[1;32m      2\u001b[0m     \"/project/morriscb/src/ap_verify_ci_hits2015/DM-29901-Gen2/output\")\n",
      "\u001b[0;32m/software/lsstsw/stack_20210211/stack/miniconda3-py38_4.9.2-0.4.1/Linux64/daf_persistence/21.0.0-6-gf32990f+87b8d260e6/python/lsst/daf/persistence/butler.py\u001b[0m in \u001b[0;36m__init__\u001b[0;34m(self, root, mapper, inputs, outputs, **mapperArgs)\u001b[0m\n\u001b[1;32m    532\u001b[0m \u001b[0;34m\u001b[0m\u001b[0m\n\u001b[1;32m    533\u001b[0m         \u001b[0;32mfor\u001b[0m \u001b[0mrepoData\u001b[0m \u001b[0;32min\u001b[0m \u001b[0mrepoDataList\u001b[0m\u001b[0;34m:\u001b[0m\u001b[0;34m\u001b[0m\u001b[0;34m\u001b[0m\u001b[0m\n\u001b[0;32m--> 534\u001b[0;31m             \u001b[0mself\u001b[0m\u001b[0;34m.\u001b[0m\u001b[0m_initRepo\u001b[0m\u001b[0;34m(\u001b[0m\u001b[0mrepoData\u001b[0m\u001b[0;34m)\u001b[0m\u001b[0;34m\u001b[0m\u001b[0;34m\u001b[0m\u001b[0m\n\u001b[0m\u001b[1;32m    535\u001b[0m \u001b[0;34m\u001b[0m\u001b[0m\n\u001b[1;32m    536\u001b[0m     \u001b[0;32mdef\u001b[0m \u001b[0m_initRepo\u001b[0m\u001b[0;34m(\u001b[0m\u001b[0mself\u001b[0m\u001b[0;34m,\u001b[0m \u001b[0mrepoData\u001b[0m\u001b[0;34m)\u001b[0m\u001b[0;34m:\u001b[0m\u001b[0;34m\u001b[0m\u001b[0;34m\u001b[0m\u001b[0m\n",
      "\u001b[0;32m/software/lsstsw/stack_20210211/stack/miniconda3-py38_4.9.2-0.4.1/Linux64/daf_persistence/21.0.0-6-gf32990f+87b8d260e6/python/lsst/daf/persistence/butler.py\u001b[0m in \u001b[0;36m_initRepo\u001b[0;34m(self, repoData)\u001b[0m\n\u001b[1;32m    543\u001b[0m                 \u001b[0;32mcontinue\u001b[0m\u001b[0;34m\u001b[0m\u001b[0;34m\u001b[0m\u001b[0m\n\u001b[1;32m    544\u001b[0m             \u001b[0;32mif\u001b[0m \u001b[0mparentRepoData\u001b[0m\u001b[0;34m.\u001b[0m\u001b[0mrepo\u001b[0m \u001b[0;32mis\u001b[0m \u001b[0;32mNone\u001b[0m\u001b[0;34m:\u001b[0m\u001b[0;34m\u001b[0m\u001b[0;34m\u001b[0m\u001b[0m\n\u001b[0;32m--> 545\u001b[0;31m                 \u001b[0mself\u001b[0m\u001b[0;34m.\u001b[0m\u001b[0m_initRepo\u001b[0m\u001b[0;34m(\u001b[0m\u001b[0mparentRepoData\u001b[0m\u001b[0;34m)\u001b[0m\u001b[0;34m\u001b[0m\u001b[0;34m\u001b[0m\u001b[0m\n\u001b[0m\u001b[1;32m    546\u001b[0m             \u001b[0mparentRegistry\u001b[0m \u001b[0;34m=\u001b[0m \u001b[0mparentRepoData\u001b[0m\u001b[0;34m.\u001b[0m\u001b[0mrepo\u001b[0m\u001b[0;34m.\u001b[0m\u001b[0mgetRegistry\u001b[0m\u001b[0;34m(\u001b[0m\u001b[0;34m)\u001b[0m\u001b[0;34m\u001b[0m\u001b[0;34m\u001b[0m\u001b[0m\n\u001b[1;32m    547\u001b[0m             \u001b[0mrepoData\u001b[0m\u001b[0;34m.\u001b[0m\u001b[0mparentRegistry\u001b[0m \u001b[0;34m=\u001b[0m \u001b[0mparentRegistry\u001b[0m \u001b[0;32mif\u001b[0m \u001b[0mparentRegistry\u001b[0m \u001b[0;32melse\u001b[0m \u001b[0mparentRepoData\u001b[0m\u001b[0;34m.\u001b[0m\u001b[0mparentRegistry\u001b[0m\u001b[0;34m\u001b[0m\u001b[0;34m\u001b[0m\u001b[0m\n",
      "\u001b[0;32m/software/lsstsw/stack_20210211/stack/miniconda3-py38_4.9.2-0.4.1/Linux64/daf_persistence/21.0.0-6-gf32990f+87b8d260e6/python/lsst/daf/persistence/butler.py\u001b[0m in \u001b[0;36m_initRepo\u001b[0;34m(self, repoData)\u001b[0m\n\u001b[1;32m    543\u001b[0m                 \u001b[0;32mcontinue\u001b[0m\u001b[0;34m\u001b[0m\u001b[0;34m\u001b[0m\u001b[0m\n\u001b[1;32m    544\u001b[0m             \u001b[0;32mif\u001b[0m \u001b[0mparentRepoData\u001b[0m\u001b[0;34m.\u001b[0m\u001b[0mrepo\u001b[0m \u001b[0;32mis\u001b[0m \u001b[0;32mNone\u001b[0m\u001b[0;34m:\u001b[0m\u001b[0;34m\u001b[0m\u001b[0;34m\u001b[0m\u001b[0m\n\u001b[0;32m--> 545\u001b[0;31m                 \u001b[0mself\u001b[0m\u001b[0;34m.\u001b[0m\u001b[0m_initRepo\u001b[0m\u001b[0;34m(\u001b[0m\u001b[0mparentRepoData\u001b[0m\u001b[0;34m)\u001b[0m\u001b[0;34m\u001b[0m\u001b[0;34m\u001b[0m\u001b[0m\n\u001b[0m\u001b[1;32m    546\u001b[0m             \u001b[0mparentRegistry\u001b[0m \u001b[0;34m=\u001b[0m \u001b[0mparentRepoData\u001b[0m\u001b[0;34m.\u001b[0m\u001b[0mrepo\u001b[0m\u001b[0;34m.\u001b[0m\u001b[0mgetRegistry\u001b[0m\u001b[0;34m(\u001b[0m\u001b[0;34m)\u001b[0m\u001b[0;34m\u001b[0m\u001b[0;34m\u001b[0m\u001b[0m\n\u001b[1;32m    547\u001b[0m             \u001b[0mrepoData\u001b[0m\u001b[0;34m.\u001b[0m\u001b[0mparentRegistry\u001b[0m \u001b[0;34m=\u001b[0m \u001b[0mparentRegistry\u001b[0m \u001b[0;32mif\u001b[0m \u001b[0mparentRegistry\u001b[0m \u001b[0;32melse\u001b[0m \u001b[0mparentRepoData\u001b[0m\u001b[0;34m.\u001b[0m\u001b[0mparentRegistry\u001b[0m\u001b[0;34m\u001b[0m\u001b[0;34m\u001b[0m\u001b[0m\n",
      "\u001b[0;32m/software/lsstsw/stack_20210211/stack/miniconda3-py38_4.9.2-0.4.1/Linux64/daf_persistence/21.0.0-6-gf32990f+87b8d260e6/python/lsst/daf/persistence/butler.py\u001b[0m in \u001b[0;36m_initRepo\u001b[0;34m(self, repoData)\u001b[0m\n\u001b[1;32m    548\u001b[0m             \u001b[0;32mif\u001b[0m \u001b[0mrepoData\u001b[0m\u001b[0;34m.\u001b[0m\u001b[0mparentRegistry\u001b[0m\u001b[0;34m:\u001b[0m\u001b[0;34m\u001b[0m\u001b[0;34m\u001b[0m\u001b[0m\n\u001b[1;32m    549\u001b[0m                 \u001b[0;32mbreak\u001b[0m\u001b[0;34m\u001b[0m\u001b[0;34m\u001b[0m\u001b[0m\n\u001b[0;32m--> 550\u001b[0;31m         \u001b[0mrepoData\u001b[0m\u001b[0;34m.\u001b[0m\u001b[0mrepo\u001b[0m \u001b[0;34m=\u001b[0m \u001b[0mRepository\u001b[0m\u001b[0;34m(\u001b[0m\u001b[0mrepoData\u001b[0m\u001b[0;34m)\u001b[0m\u001b[0;34m\u001b[0m\u001b[0;34m\u001b[0m\u001b[0m\n\u001b[0m\u001b[1;32m    551\u001b[0m \u001b[0;34m\u001b[0m\u001b[0m\n\u001b[1;32m    552\u001b[0m     \u001b[0;32mdef\u001b[0m \u001b[0m_processInputArguments\u001b[0m\u001b[0;34m(\u001b[0m\u001b[0mself\u001b[0m\u001b[0;34m,\u001b[0m \u001b[0mroot\u001b[0m\u001b[0;34m=\u001b[0m\u001b[0;32mNone\u001b[0m\u001b[0;34m,\u001b[0m \u001b[0mmapper\u001b[0m\u001b[0;34m=\u001b[0m\u001b[0;32mNone\u001b[0m\u001b[0;34m,\u001b[0m \u001b[0minputs\u001b[0m\u001b[0;34m=\u001b[0m\u001b[0;32mNone\u001b[0m\u001b[0;34m,\u001b[0m \u001b[0moutputs\u001b[0m\u001b[0;34m=\u001b[0m\u001b[0;32mNone\u001b[0m\u001b[0;34m,\u001b[0m \u001b[0;34m**\u001b[0m\u001b[0mmapperArgs\u001b[0m\u001b[0;34m)\u001b[0m\u001b[0;34m:\u001b[0m\u001b[0;34m\u001b[0m\u001b[0;34m\u001b[0m\u001b[0m\n",
      "\u001b[0;32m/software/lsstsw/stack_20210211/stack/miniconda3-py38_4.9.2-0.4.1/Linux64/daf_persistence/21.0.0-6-gf32990f+87b8d260e6/python/lsst/daf/persistence/repository.py\u001b[0m in \u001b[0;36m__init__\u001b[0;34m(self, repoData)\u001b[0m\n\u001b[1;32m    138\u001b[0m             \u001b[0mself\u001b[0m\u001b[0;34m.\u001b[0m\u001b[0m_storage\u001b[0m\u001b[0;34m.\u001b[0m\u001b[0mputRepositoryCfg\u001b[0m\u001b[0;34m(\u001b[0m\u001b[0mrepoData\u001b[0m\u001b[0;34m.\u001b[0m\u001b[0mcfg\u001b[0m\u001b[0;34m,\u001b[0m \u001b[0mrepoData\u001b[0m\u001b[0;34m.\u001b[0m\u001b[0mcfgRoot\u001b[0m\u001b[0;34m)\u001b[0m\u001b[0;34m\u001b[0m\u001b[0;34m\u001b[0m\u001b[0m\n\u001b[1;32m    139\u001b[0m         \u001b[0mself\u001b[0m\u001b[0;34m.\u001b[0m\u001b[0m_mapperArgs\u001b[0m \u001b[0;34m=\u001b[0m \u001b[0mrepoData\u001b[0m\u001b[0;34m.\u001b[0m\u001b[0mcfg\u001b[0m\u001b[0;34m.\u001b[0m\u001b[0mmapperArgs\u001b[0m  \u001b[0;31m# keep for reference in matchesArgs\u001b[0m\u001b[0;34m\u001b[0m\u001b[0;34m\u001b[0m\u001b[0m\n\u001b[0;32m--> 140\u001b[0;31m         \u001b[0mself\u001b[0m\u001b[0;34m.\u001b[0m\u001b[0m_initMapper\u001b[0m\u001b[0;34m(\u001b[0m\u001b[0mrepoData\u001b[0m\u001b[0;34m)\u001b[0m\u001b[0;34m\u001b[0m\u001b[0;34m\u001b[0m\u001b[0m\n\u001b[0m\u001b[1;32m    141\u001b[0m \u001b[0;34m\u001b[0m\u001b[0m\n\u001b[1;32m    142\u001b[0m     \u001b[0;32mdef\u001b[0m \u001b[0m_initMapper\u001b[0m\u001b[0;34m(\u001b[0m\u001b[0mself\u001b[0m\u001b[0;34m,\u001b[0m \u001b[0mrepoData\u001b[0m\u001b[0;34m)\u001b[0m\u001b[0;34m:\u001b[0m\u001b[0;34m\u001b[0m\u001b[0;34m\u001b[0m\u001b[0m\n",
      "\u001b[0;32m/software/lsstsw/stack_20210211/stack/miniconda3-py38_4.9.2-0.4.1/Linux64/daf_persistence/21.0.0-6-gf32990f+87b8d260e6/python/lsst/daf/persistence/repository.py\u001b[0m in \u001b[0;36m_initMapper\u001b[0;34m(self, repoData)\u001b[0m\n\u001b[1;32m    165\u001b[0m             \u001b[0;32mif\u001b[0m \u001b[0;34m'root'\u001b[0m \u001b[0;32mnot\u001b[0m \u001b[0;32min\u001b[0m \u001b[0mmapperArgs\u001b[0m\u001b[0;34m:\u001b[0m\u001b[0;34m\u001b[0m\u001b[0;34m\u001b[0m\u001b[0m\n\u001b[1;32m    166\u001b[0m                 \u001b[0mmapperArgs\u001b[0m\u001b[0;34m[\u001b[0m\u001b[0;34m'root'\u001b[0m\u001b[0;34m]\u001b[0m \u001b[0;34m=\u001b[0m \u001b[0mrepoData\u001b[0m\u001b[0;34m.\u001b[0m\u001b[0mcfg\u001b[0m\u001b[0;34m.\u001b[0m\u001b[0mroot\u001b[0m\u001b[0;34m\u001b[0m\u001b[0;34m\u001b[0m\u001b[0m\n\u001b[0;32m--> 167\u001b[0;31m             mapper = mapper(parentRegistry=repoData.parentRegistry,\n\u001b[0m\u001b[1;32m    168\u001b[0m                             \u001b[0mrepositoryCfg\u001b[0m\u001b[0;34m=\u001b[0m\u001b[0mrepoData\u001b[0m\u001b[0;34m.\u001b[0m\u001b[0mcfg\u001b[0m\u001b[0;34m,\u001b[0m\u001b[0;34m\u001b[0m\u001b[0;34m\u001b[0m\u001b[0m\n\u001b[1;32m    169\u001b[0m                             **mapperArgs)\n",
      "\u001b[0;32m/software/lsstsw/stack_20210211/stack/miniconda3-py38_4.9.2-0.4.1/Linux64/obs_decam/21.0.0-5-g7ebb681+ef31ec5dd4/python/lsst/obs/decam/decamMapper.py\u001b[0m in \u001b[0;36m__init__\u001b[0;34m(self, inputPolicy, **kwargs)\u001b[0m\n\u001b[1;32m     65\u001b[0m         \u001b[0msuper\u001b[0m\u001b[0;34m(\u001b[0m\u001b[0mDecamMapper\u001b[0m\u001b[0;34m,\u001b[0m \u001b[0mself\u001b[0m\u001b[0;34m)\u001b[0m\u001b[0;34m.\u001b[0m\u001b[0m__init__\u001b[0m\u001b[0;34m(\u001b[0m\u001b[0mpolicy\u001b[0m\u001b[0;34m,\u001b[0m \u001b[0mos\u001b[0m\u001b[0;34m.\u001b[0m\u001b[0mpath\u001b[0m\u001b[0;34m.\u001b[0m\u001b[0mdirname\u001b[0m\u001b[0;34m(\u001b[0m\u001b[0mpolicyFile\u001b[0m\u001b[0;34m)\u001b[0m\u001b[0;34m,\u001b[0m \u001b[0;34m**\u001b[0m\u001b[0mkwargs\u001b[0m\u001b[0;34m)\u001b[0m\u001b[0;34m\u001b[0m\u001b[0;34m\u001b[0m\u001b[0m\n\u001b[1;32m     66\u001b[0m \u001b[0;34m\u001b[0m\u001b[0m\n\u001b[0;32m---> 67\u001b[0;31m         \u001b[0mDECAM_FILTER_DEFINITIONS\u001b[0m\u001b[0;34m.\u001b[0m\u001b[0mdefineFilters\u001b[0m\u001b[0;34m(\u001b[0m\u001b[0;34m)\u001b[0m\u001b[0;34m\u001b[0m\u001b[0;34m\u001b[0m\u001b[0m\n\u001b[0m\u001b[1;32m     68\u001b[0m \u001b[0;34m\u001b[0m\u001b[0m\n\u001b[1;32m     69\u001b[0m         \u001b[0;31m# The data ID key ccdnum is not directly used in the current policy\u001b[0m\u001b[0;34m\u001b[0m\u001b[0;34m\u001b[0m\u001b[0;34m\u001b[0m\u001b[0m\n",
      "\u001b[0;32m/software/lsstsw/stack_20210211/stack/miniconda3-py38_4.9.2-0.4.1/Linux64/obs_base/21.0.0-31-g1236201+7acd6d9f81/python/lsst/obs/base/filters.py\u001b[0m in \u001b[0;36mdefineFilters\u001b[0;34m(self)\u001b[0m\n\u001b[1;32m     96\u001b[0m         \u001b[0;32melse\u001b[0m\u001b[0;34m:\u001b[0m\u001b[0;34m\u001b[0m\u001b[0;34m\u001b[0m\u001b[0m\n\u001b[1;32m     97\u001b[0m             \u001b[0mmsg\u001b[0m \u001b[0;34m=\u001b[0m \u001b[0;34mf\"afw Filters were already defined on: {self._defined}\"\u001b[0m\u001b[0;34m\u001b[0m\u001b[0;34m\u001b[0m\u001b[0m\n\u001b[0;32m---> 98\u001b[0;31m             \u001b[0;32mraise\u001b[0m \u001b[0mRuntimeError\u001b[0m\u001b[0;34m(\u001b[0m\u001b[0mmsg\u001b[0m\u001b[0;34m)\u001b[0m\u001b[0;34m\u001b[0m\u001b[0;34m\u001b[0m\u001b[0m\n\u001b[0m\u001b[1;32m     99\u001b[0m \u001b[0;34m\u001b[0m\u001b[0m\n\u001b[1;32m    100\u001b[0m     \u001b[0;34m@\u001b[0m\u001b[0mclassmethod\u001b[0m\u001b[0;34m\u001b[0m\u001b[0;34m\u001b[0m\u001b[0m\n",
      "\u001b[0;31mRuntimeError\u001b[0m: afw Filters were already defined on: FilterDefinitions(FilterDefinition(physical_filter='unknown', lambdaEff='0', band='unknown', alias='frozenset({'NOTSET', 'UNRECOGNIZED', 'Unrecognized', 'UNRECOGNISED', 'UNKNOWN', 'Unrecognised'})'), FilterDefinition(physical_filter='empty', lambdaEff='0', band='white', alias='frozenset({'NONE'})'), FilterDefinition(physical_filter='HSC-G', lambdaEff='477', band='g', alias='frozenset({'W-S-G+'})'), FilterDefinition(physical_filter='HSC-R', lambdaEff='623', band='r', alias='frozenset({'W-S-R+'})'), FilterDefinition(physical_filter='ENG-R1', lambdaEff='623', band='r', alias='frozenset({'109'})'), FilterDefinition(physical_filter='HSC-I', lambdaEff='775', band='i', alias='frozenset({'W-S-I+'})'), FilterDefinition(physical_filter='HSC-Z', lambdaEff='925', band='z', alias='frozenset({'W-S-Z+'})'), FilterDefinition(physical_filter='HSC-Y', lambdaEff='990', band='y', alias='frozenset({'W-S-ZR'})'), FilterDefinition(physical_filter='NB0387', lambdaEff='387', band='N387'), FilterDefinition(physical_filter='NB0515', lambdaEff='515', band='N515'), FilterDefinition(physical_filter='NB0656', lambdaEff='656', band='N656'), FilterDefinition(physical_filter='NB0816', lambdaEff='816', band='N816'), FilterDefinition(physical_filter='NB0921', lambdaEff='921', band='N921'), FilterDefinition(physical_filter='NB1010', lambdaEff='1010', band='N1010'), FilterDefinition(physical_filter='SH', lambdaEff='0', band='SH'), FilterDefinition(physical_filter='PH', lambdaEff='0', band='PH'), FilterDefinition(physical_filter='NB0527', lambdaEff='527', band='N527'), FilterDefinition(physical_filter='NB0718', lambdaEff='718', band='N718'), FilterDefinition(physical_filter='IB0945', lambdaEff='945', band='I945'), FilterDefinition(physical_filter='NB0973', lambdaEff='973', band='N973'), FilterDefinition(physical_filter='HSC-I2', lambdaEff='775', band='i', afw_name='i2'), FilterDefinition(physical_filter='HSC-R2', lambdaEff='623', band='r', afw_name='r2'), FilterDefinition(physical_filter='NB0468', lambdaEff='468', band='N468'), FilterDefinition(physical_filter='NB0926', lambdaEff='926', band='N926'), FilterDefinition(physical_filter='NB0400', lambdaEff='400', band='N400'))"
     ]
    }
   ],
   "source": [
    "hitsButGen2 = dafPersit.Butler(\n",
    "    \"/project/morriscb/src/ap_verify_ci_hits2015/DM-29901-Gen2/output\")"
   ]
  },
  {
   "cell_type": "markdown",
   "id": "complicated-retailer",
   "metadata": {},
   "source": [
    "Gen3\n",
    "------"
   ]
  },
  {
   "cell_type": "code",
   "execution_count": 11,
   "id": "studied-crossing",
   "metadata": {},
   "outputs": [],
   "source": [
    "hitsButGen3 = Butler(\n",
    "    \"/project/morriscb/src/ap_verify_ci_hits2015/DM-29901-Gen3/repo\",\n",
    "    collections=[\"ap_verify-output\"])"
   ]
  },
  {
   "cell_type": "code",
   "execution_count": 12,
   "id": "recorded-panel",
   "metadata": {},
   "outputs": [
    {
     "name": "stdout",
     "output_type": "stream",
     "text": [
      "Source table length: 2108\n"
     ]
    }
   ],
   "source": [
    "src = hitsButGen3.get('src', visit=411420, detector=5, instrument=\"DECam\")\n",
    "print(\"Source table length:\", len(src))"
   ]
  },
  {
   "cell_type": "code",
   "execution_count": 13,
   "id": "passive-discrimination",
   "metadata": {},
   "outputs": [
    {
     "name": "stdout",
     "output_type": "stream",
     "text": [
      "Source table length: 132\n"
     ]
    }
   ],
   "source": [
    "diaSrc = hitsButGen3.get('deepDiff_diaSrc', visit=411420, detector=5, instrument=\"DECam\")\n",
    "print(\"Source table length:\", len(diaSrc))"
   ]
  },
  {
   "cell_type": "code",
   "execution_count": null,
   "id": "passing-meter",
   "metadata": {},
   "outputs": [],
   "source": []
  }
 ],
 "metadata": {
  "kernelspec": {
   "display_name": "Python 3",
   "language": "python",
   "name": "python3"
  },
  "language_info": {
   "codemirror_mode": {
    "name": "ipython",
    "version": 3
   },
   "file_extension": ".py",
   "mimetype": "text/x-python",
   "name": "python",
   "nbconvert_exporter": "python",
   "pygments_lexer": "ipython3",
   "version": "3.8.6"
  }
 },
 "nbformat": 4,
 "nbformat_minor": 5
}
